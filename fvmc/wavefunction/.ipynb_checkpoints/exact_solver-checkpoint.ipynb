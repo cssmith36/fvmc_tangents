{
 "cells": [
  {
   "cell_type": "code",
   "execution_count": 1,
   "metadata": {
    "tags": []
   },
   "outputs": [
    {
     "ename": "ModuleNotFoundError",
     "evalue": "No module named 'fvmc'",
     "output_type": "error",
     "traceback": [
      "\u001b[0;31m---------------------------------------------------------------------------\u001b[0m",
      "\u001b[0;31mModuleNotFoundError\u001b[0m                       Traceback (most recent call last)",
      "Cell \u001b[0;32mIn[1], line 3\u001b[0m\n\u001b[1;32m      1\u001b[0m \u001b[38;5;28;01mimport\u001b[39;00m \u001b[38;5;21;01mnumpy\u001b[39;00m \u001b[38;5;28;01mas\u001b[39;00m \u001b[38;5;21;01mnp\u001b[39;00m\n\u001b[1;32m      2\u001b[0m \u001b[38;5;28;01mimport\u001b[39;00m \u001b[38;5;21;01mjax\u001b[39;00m\u001b[38;5;21;01m.\u001b[39;00m\u001b[38;5;21;01mnumpy\u001b[39;00m \u001b[38;5;28;01mas\u001b[39;00m \u001b[38;5;21;01mjnp\u001b[39;00m\n\u001b[0;32m----> 3\u001b[0m \u001b[38;5;28;01mimport\u001b[39;00m \u001b[38;5;21;01mfvmc\u001b[39;00m\n",
      "\u001b[0;31mModuleNotFoundError\u001b[0m: No module named 'fvmc'"
     ]
    }
   ],
   "source": [
    "import numpy as np\n",
    "import jax.numpy as jnp\n",
    "import fvmc"
   ]
  },
  {
   "cell_type": "code",
   "execution_count": null,
   "metadata": {
    "tags": []
   },
   "outputs": [],
   "source": [
    "def get_w_plus(w):\n",
    "    w_plus = np.zeros((n_sigma, n_k, n_q, n_orb), dtype=complex)\n",
    "    for iq in range(n_q):\n",
    "        for ik1 in range(n_k):\n",
    "                k1pq = klist[ik1] + qlist[iq]\n",
    "                if _check_in_arr(k1pq, klist):\n",
    "                    ind1 = _get_idx_in_arr(k1pq, klist)\n",
    "                    w_plus[:, ik1, iq, :] = w[:, ind1, :]\n",
    "    return w_plus\n",
    "\n",
    "def get_w_minus(w):\n",
    "    w_minus = np.zeros((n_sigma, n_k, n_q, n_orb), dtype=complex)\n",
    "    for iq in range(n_q):\n",
    "        for ik2 in range(n_k):\n",
    "                k2mq = klist[ik2] - qlist[iq]\n",
    "                if _check_in_arr(k2mq, klist):\n",
    "                    ind2 = _get_idx_in_arr(k2mq, klist)\n",
    "                    w_minus[:, ik2, iq, :]=w[:, ind2, :]\n",
    "    return w_minus"
   ]
  },
  {
   "cell_type": "code",
   "execution_count": null,
   "metadata": {
    "tags": []
   },
   "outputs": [],
   "source": [
    "def calc_e_kin(w):\n",
    "    ekin_pref = (klist[:, 0]**2 + klist[:, 1]**2) / 2\n",
    "    ekin = np.einsum('ijk, j ->', w.conj() * w, ekin_pref)\n",
    "    return ekin"
   ]
  },
  {
   "cell_type": "code",
   "execution_count": null,
   "metadata": {
    "tags": []
   },
   "outputs": [],
   "source": [
    "def calc_e_pot(w):\n",
    "    w_plus = get_w_plus(w)\n",
    "    w_minus = get_w_minus(w)\n",
    "    v_pref = 1 / (2 * area) * gaussian_q(qlist)\n",
    "    e_ha =  np.einsum('sija, sia, j, tljb, tlb',\n",
    "                    w_plus.conj(), w, v_pref, w_minus.conj(), w).real\n",
    "    e_fo = -np.einsum('sija, sib, j, tljb, tla', \\\n",
    "                    w_plus.conj(), w, v_pref, w_minus.conj(), w).real\n",
    "    e_bg = -0.5 * gaussian_q(np.array([0,0])) * n_elec**2 / area\n",
    "    return e_ha, e_fo, e_bg"
   ]
  },
  {
   "cell_type": "code",
   "execution_count": null,
   "metadata": {
    "tags": []
   },
   "outputs": [],
   "source": [
    "ref_epot = (np.sum(calc_e_pot(w)))\n",
    "ref_ekin = calc_e_kin(w)\n",
    "ref_etot = ref_ekin + ref_epot\n",
    "print(\"reference:\")\n",
    "print(\"ekin:\", ref_ekin)\n",
    "print(\"epot:\", ref_epot)\n",
    "print(\"etot:\", ref_etot)"
   ]
  },
  {
   "cell_type": "code",
   "execution_count": null,
   "metadata": {},
   "outputs": [],
   "source": []
  }
 ],
 "metadata": {
  "kernelspec": {
   "display_name": "fvmc2",
   "language": "python",
   "name": "fvmc2"
  },
  "language_info": {
   "codemirror_mode": {
    "name": "ipython",
    "version": 3
   },
   "file_extension": ".py",
   "mimetype": "text/x-python",
   "name": "python",
   "nbconvert_exporter": "python",
   "pygments_lexer": "ipython3",
   "version": "3.11.2"
  }
 },
 "nbformat": 4,
 "nbformat_minor": 4
}
