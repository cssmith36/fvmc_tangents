{
 "cells": [
  {
   "cell_type": "code",
   "execution_count": 31,
   "metadata": {
    "tags": []
   },
   "outputs": [],
   "source": [
    "import numpy as np\n",
    "import jax.numpy as jnp\n",
    "import fvmc\n",
    "from fvmc.utils import load_pickle, displace_matrix, gen_kidx, split_spin\n",
    "from fvmc.ewaldsum import gen_lattice_displacements, gen_pbc_disp_fn\n",
    "from test_hegspin import _common_spin_config, _common_config\n",
    "from fvmc.wavefunction.heg import heg_rs"
   ]
  },
  {
   "cell_type": "code",
   "execution_count": 32,
   "metadata": {
    "tags": []
   },
   "outputs": [
    {
     "name": "stdout",
     "output_type": "stream",
     "text": [
      "n_up,n_dn 12 0\n",
      "coeeff shape (12, 12)\n"
     ]
    }
   ],
   "source": [
    "n_elec = 12\n",
    "n_k = n_elec\n",
    "seed = 42\n",
    "iterations = 100\n",
    "cfg = _common_config(n_elec=n_elec, n_k=n_k,\n",
    "                          seed=seed, iterations=iterations)"
   ]
  },
  {
   "cell_type": "code",
   "execution_count": 54,
   "metadata": {
    "tags": []
   },
   "outputs": [],
   "source": [
    "n_lat = 1\n",
    "pref = 0.5\n",
    "cell = latvec = jnp.asarray(cfg.system.cell)\n",
    "recvec = jnp.linalg.inv(latvec).T\n",
    "kpts = jnp.asarray(gen_kidx(2, n_k, close_shell=False)) #n_dim = 2\n",
    "klist = 2 * jnp.pi * kpts @ recvec # [n_k,n_dim]\n",
    "\n",
    "disp_fn = gen_pbc_disp_fn(latvec)\n",
    "lat_disp = gen_lattice_displacements(latvec, n_lat)\n",
    "lat_norm = jnp.linalg.norm(lat_disp, axis=-1)\n",
    "lat_norm = lat_norm[lat_norm > 0]\n",
    "lamb = 0.2 # 0.04 #0.001 #0.2\n",
    "pref = 1 #1e2\n",
    "#self_img = pref * jnp.sum(jnp.exp(-0.5* lamb * lat_norm * lat_norm))"
   ]
  },
  {
   "cell_type": "code",
   "execution_count": 55,
   "metadata": {
    "tags": []
   },
   "outputs": [
    {
     "name": "stdout",
     "output_type": "stream",
     "text": [
      "(12, 2) (81, 2)\n",
      "(81, 2)\n",
      "(12, 12)\n",
      "w (1, 12, 12)\n",
      "(1, 12, 12)\n"
     ]
    }
   ],
   "source": [
    "n_sigma=1\n",
    "lx = cell[0, 0]\n",
    "ly = cell[1, 1]\n",
    "area = lx * ly\n",
    "dkx= 2 * np.pi / lx\n",
    "dky= 2 * np.pi / ly\n",
    "n_qmax = int(np.max(np.abs(klist)) / min(dkx, dky)) * 2\n",
    "q1x = np.arange(-n_qmax, n_qmax + 1) * dkx\n",
    "q1y = np.arange(-n_qmax, n_qmax + 1) * dky\n",
    "qlist = np.stack(np.meshgrid(q1x, q1y, indexing='ij'), axis=-1).reshape(-1, 2)\n",
    "n_q = qlist.shape[0]\n",
    "print(klist.shape, qlist.shape)\n",
    "print(qlist.shape)\n",
    "# w is coeff, but pull the spin dim to the front\n",
    "coeff = cfg.restart.params['params']['orbital_fn']['VmapDense_0']['kernel']\n",
    "print(coeff.shape)\n",
    "w = coeff[None,...]\n",
    "#w = np.moveaxis(np.asarray(coeff), -1, 0) # [n_spin, n_k, n_orb(=n_elec)]\n",
    "print('w',w.shape)\n",
    "n_orb = w.shape[2]\n",
    "_w = w.reshape(n_sigma * n_k, n_orb)\n",
    "_q, _r = np.linalg.qr(_w)\n",
    "w = _q.reshape(n_sigma, n_k, n_orb)\n",
    "print(w.shape)"
   ]
  },
  {
   "cell_type": "code",
   "execution_count": 56,
   "metadata": {
    "tags": []
   },
   "outputs": [],
   "source": [
    "def _check_in_arr(el, ar):\n",
    "        \"\"\"\n",
    "        el : dim 2\n",
    "        ar : dim Nx2\n",
    "        \"\"\"\n",
    "        diff = np.linalg.norm(el - ar, axis=1)\n",
    "        return np.any(np.isclose(0, diff))\n",
    "\n",
    "def _get_idx_in_arr(el, ar):\n",
    "        \"\"\"\n",
    "        el : dim 2\n",
    "        ar : dim Nx2\n",
    "        \"\"\"\n",
    "        diff = np.linalg.norm(el - ar, axis=1)\n",
    "        idx = np.argmin(diff)\n",
    "        assert np.isclose(diff[idx], 0)\n",
    "        return idx"
   ]
  },
  {
   "cell_type": "code",
   "execution_count": 57,
   "metadata": {
    "tags": []
   },
   "outputs": [],
   "source": [
    "def gaussian_q(qvec):\n",
    "        qnorm = np.linalg.norm(qvec, axis=-1) #+(1e-8)**2)\n",
    "        v = 2 * np.pi / lamb * pref * np.exp(-qnorm**2 / (2 * lamb))\n",
    "        return v"
   ]
  },
  {
   "cell_type": "code",
   "execution_count": 58,
   "metadata": {
    "tags": []
   },
   "outputs": [],
   "source": [
    "def get_w_plus(w):\n",
    "    w_plus = np.zeros((n_sigma, n_k, n_q, n_orb), dtype=complex)\n",
    "    for iq in range(n_q):\n",
    "        for ik1 in range(n_k):\n",
    "                k1pq = klist[ik1] + qlist[iq]\n",
    "                if _check_in_arr(k1pq, klist):\n",
    "                    ind1 = _get_idx_in_arr(k1pq, klist)\n",
    "                    w_plus[:, ik1, iq, :] = w[:, ind1, :]\n",
    "    return w_plus\n",
    "\n",
    "def get_w_minus(w):\n",
    "    w_minus = np.zeros((n_sigma, n_k, n_q, n_orb), dtype=complex)\n",
    "    for iq in range(n_q):\n",
    "        for ik2 in range(n_k):\n",
    "                k2mq = klist[ik2] - qlist[iq]\n",
    "                if _check_in_arr(k2mq, klist):\n",
    "                    ind2 = _get_idx_in_arr(k2mq, klist)\n",
    "                    w_minus[:, ik2, iq, :]=w[:, ind2, :]\n",
    "    return w_minus"
   ]
  },
  {
   "cell_type": "code",
   "execution_count": 59,
   "metadata": {
    "tags": []
   },
   "outputs": [],
   "source": [
    "def calc_e_kin(w):\n",
    "    ekin_pref = (klist[:, 0]**2 + klist[:, 1]**2) / 2\n",
    "    ekin = np.einsum('ijk, j ->', w.conj() * w, ekin_pref)\n",
    "    return ekin"
   ]
  },
  {
   "cell_type": "code",
   "execution_count": 60,
   "metadata": {
    "tags": []
   },
   "outputs": [],
   "source": [
    "def calc_e_pot(w):\n",
    "    w_plus = get_w_plus(w)\n",
    "    w_minus = get_w_minus(w)\n",
    "    v_pref = 1 / (2 * area) * gaussian_q(qlist)\n",
    "    e_ha =  np.einsum('sija, sia, j, tljb, tlb',\n",
    "                    w_plus.conj(), w, v_pref, w_minus.conj(), w).real\n",
    "    e_fo = -np.einsum('sija, sib, j, tljb, tla', \\\n",
    "                    w_plus.conj(), w, v_pref, w_minus.conj(), w).real\n",
    "    e_bg = -0.5 * gaussian_q(np.array([0,0])) * n_elec**2 / area\n",
    "    return e_ha, e_fo, e_bg"
   ]
  },
  {
   "cell_type": "code",
   "execution_count": 61,
   "metadata": {
    "tags": []
   },
   "outputs": [],
   "source": [
    "fchk = '/mnt/home/csmith1/ceph/excitedStates/fvmc/tests/wavefunction/tmp/checkpoint.pkl'\n",
    "params = load_pickle(fchk)"
   ]
  },
  {
   "cell_type": "code",
   "execution_count": 62,
   "metadata": {
    "tags": []
   },
   "outputs": [],
   "source": [
    "coeffs = params[1]['params']['orbital_fn']['VmapDense_0']['kernel']\n",
    "#print(coeffs)"
   ]
  },
  {
   "cell_type": "code",
   "execution_count": 63,
   "metadata": {
    "tags": []
   },
   "outputs": [],
   "source": [
    "#print(w)"
   ]
  },
  {
   "cell_type": "code",
   "execution_count": 66,
   "metadata": {
    "tags": []
   },
   "outputs": [
    {
     "name": "stdout",
     "output_type": "stream",
     "text": [
      "(0.0666666666666667, -0.06592112202089512, Array(-0.06666667, dtype=float64))\n",
      "reference:\n",
      "ekin: 0.01377143961733388\n",
      "epot: -0.0659211220208951\n",
      "etot: -0.05214968240356122\n",
      "(1, 12, 81, 12) (1, 12, 12) (81,) (1, 12, 81, 12) (1, 12, 12)\n",
      "eha sum: 0.06666666666666671\n",
      "(12, 12, 12, 12)\n",
      "-0.06592112202089509\n",
      "ebg -0.06666666666666668\n"
     ]
    }
   ],
   "source": [
    "ref_epot = calc_e_pot(w)\n",
    "print(ref_epot)\n",
    "ref_epot = np.sum(calc_e_pot(w))\n",
    "ref_ekin = calc_e_kin(w)\n",
    "ref_etot = ref_ekin + ref_epot\n",
    "print(\"reference:\")\n",
    "print(\"ekin:\", ref_ekin)\n",
    "print(\"epot:\", ref_epot)\n",
    "print(\"etot:\", ref_etot)\n",
    "#print(calc_e_pot(w))\n",
    "w_plus = get_w_plus(w)\n",
    "w_minus = get_w_minus(w)\n",
    "v_pref = 1 / (2 * area) * gaussian_q(qlist)\n",
    "print(w_plus.shape, w.shape, v_pref.shape, w_minus.shape, w.shape)\n",
    "e_ha =  np.einsum('sija, sia, j, tljb, tlb->ialb',\n",
    "                    w_plus.conj(), w, v_pref, w_minus.conj(), w).real\n",
    "print('eha sum:',e_ha.sum())\n",
    "np.save('/mnt/home/csmith1/ceph/excitedStates/pyscf/e_ha.npy',e_ha)\n",
    "\n",
    "e_fo = -np.einsum('sija, sib, j, tljb, tla->iabl', \\\n",
    "                    w_plus.conj(), w, v_pref, w_minus.conj(), w).real\n",
    "#print(e_fo)\n",
    "print(e_fo.shape)\n",
    "print(e_fo.sum())\n",
    "\n",
    "np.save('/mnt/home/csmith1/ceph/excitedStates/pyscf/e_fo.npy',e_fo)\n",
    "\n",
    "print('ebg',-0.5 * gaussian_q(np.array([0,0])) * n_elec**2 / area)\n"
   ]
  },
  {
   "cell_type": "code",
   "execution_count": null,
   "metadata": {},
   "outputs": [],
   "source": []
  },
  {
   "cell_type": "code",
   "execution_count": 65,
   "metadata": {
    "tags": []
   },
   "outputs": [
    {
     "name": "stdout",
     "output_type": "stream",
     "text": [
      "0.013771439617333882\n",
      "(1, 12, 12)\n"
     ]
    }
   ],
   "source": [
    "ekin_pref = (klist[:, 0]**2 + klist[:, 1]**2) / 2\n",
    "hcore = jnp.einsum('ijk, j -> k', w.conj() * w, ekin_pref)\n",
    "print(hcore.sum())\n",
    "print((w.conj() * w).shape)\n",
    "np.save('/mnt/home/csmith1/ceph/excitedStates/pyscf/hcore.npy',hcore)"
   ]
  },
  {
   "cell_type": "code",
   "execution_count": null,
   "metadata": {},
   "outputs": [],
   "source": []
  }
 ],
 "metadata": {
  "kernelspec": {
   "display_name": "fvmc2",
   "language": "python",
   "name": "fvmc2"
  },
  "language_info": {
   "codemirror_mode": {
    "name": "ipython",
    "version": 3
   },
   "file_extension": ".py",
   "mimetype": "text/x-python",
   "name": "python",
   "nbconvert_exporter": "python",
   "pygments_lexer": "ipython3",
   "version": "3.11.2"
  }
 },
 "nbformat": 4,
 "nbformat_minor": 4
}
